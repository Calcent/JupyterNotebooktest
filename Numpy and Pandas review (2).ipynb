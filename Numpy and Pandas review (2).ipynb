{
  "metadata": {
    "kernelspec": {
      "name": "python",
      "display_name": "Python (Pyodide)",
      "language": "python"
    },
    "language_info": {
      "codemirror_mode": {
        "name": "python",
        "version": 3
      },
      "file_extension": ".py",
      "mimetype": "text/x-python",
      "name": "python",
      "nbconvert_exporter": "python",
      "pygments_lexer": "ipython3",
      "version": "3.8"
    },
    "nteract": {
      "version": "0.23.1"
    },
    "toc": {
      "base_numbering": 1,
      "nav_menu": {},
      "number_sections": false,
      "sideBar": true,
      "skip_h1_title": false,
      "title_cell": "Table of Contents",
      "title_sidebar": "Contents",
      "toc_cell": false,
      "toc_position": {},
      "toc_section_display": true,
      "toc_window_display": true
    }
  },
  "nbformat_minor": 4,
  "nbformat": 4,
  "cells": [
    {
      "cell_type": "markdown",
      "source": "# 1. Creating Numpy arrays",
      "metadata": {}
    },
    {
      "cell_type": "markdown",
      "source": "Numpy has many different types of data \"containers\": lists, dictionaries, tuples etc. However none of them allows for efficient numerical calculation, in particular not in multi-dimensional cases (think e.g. of operations on images). Numpy has been developed exactly to fill this gap. It provides a new data structure, the **numpy array**, and a large library of operations that allow to: \n- generate such arrays\n- combine arrays in different ways (concatenation, stacking etc.)\n- modify such arrays (projection, extraction of sub-arrays etc.)\n- apply mathematical operations on them\n\nNumpy is the base of almost the entire Python scientific programming stack. Many libraries build on top of Numpy, either by providing specialized functions to operate on them (e.g. scikit-image for image processing) or by creating more complex data containers on top of it. The data science library Pandas that will also be presented in this course is a good example of this with its dataframe structures.\n",
      "metadata": {}
    },
    {
      "cell_type": "code",
      "source": "import numpy as np",
      "metadata": {},
      "outputs": [],
      "execution_count": null
    },
    {
      "cell_type": "markdown",
      "source": "## 1.1 What is an array ?",
      "metadata": {}
    },
    {
      "cell_type": "markdown",
      "source": "Let us create the simplest example of an array by transforming a regular Python list into an array (we will see more advanced ways of creating arrays in the next chapters):",
      "metadata": {}
    },
    {
      "cell_type": "code",
      "source": "mylist = [2,5,3,9,5,2]",
      "metadata": {},
      "outputs": [],
      "execution_count": null
    },
    {
      "cell_type": "code",
      "source": "mylist",
      "metadata": {},
      "outputs": [],
      "execution_count": null
    },
    {
      "cell_type": "code",
      "source": "myarray = np.array(mylist)",
      "metadata": {},
      "outputs": [],
      "execution_count": null
    },
    {
      "cell_type": "code",
      "source": "myarray",
      "metadata": {},
      "outputs": [],
      "execution_count": null
    },
    {
      "cell_type": "code",
      "source": "type(myarray)",
      "metadata": {},
      "outputs": [],
      "execution_count": null
    },
    {
      "cell_type": "markdown",
      "source": "We see that ```myarray``` is a Numpy array thanks to the ```array``` specification in the output. The type also says that we have a numpy ndarray (n-dimensional). At this point we don't see a big difference with regular lists, but we'll see in the following sections all the operations we can do with these objects.\n\nWe can already see a difference with two basic attributes of arrays: their type and shape.",
      "metadata": {}
    },
    {
      "cell_type": "markdown",
      "source": "### 1.1.1 Array Type",
      "metadata": {}
    },
    {
      "cell_type": "markdown",
      "source": "Just like when we create regular variables in Python, arrays receive a type when created. Unlike regular list, **all** elements of an array always have the same type. The type of an array can be recovered through the ```.dtype``` method:",
      "metadata": {}
    },
    {
      "cell_type": "code",
      "source": "myarray.dtype",
      "metadata": {},
      "outputs": [],
      "execution_count": null
    },
    {
      "cell_type": "markdown",
      "source": "Depending on the content of the list, the array will have different types. But the logic of \"maximal complexity\" is kept. For example if we mix integers and floats, we get a float array:",
      "metadata": {}
    },
    {
      "cell_type": "code",
      "source": "myarray2 = np.array([1.2, 6, 7.6, 5])\nmyarray2",
      "metadata": {},
      "outputs": [],
      "execution_count": null
    },
    {
      "cell_type": "code",
      "source": "myarray2.dtype",
      "metadata": {},
      "outputs": [],
      "execution_count": null
    },
    {
      "cell_type": "markdown",
      "source": "In general, we have the possibility to assign a type to an array. This is true here, as well as later when we'll create more complex arrays, and is done via the ```dtype``` option: ",
      "metadata": {}
    },
    {
      "cell_type": "markdown",
      "source": "### 1.1.2 Array shape\n\nA very important property of an array is its **shape** or in other words the dimensions of each axis. That property can be accessed via the ```.shape``` property:",
      "metadata": {}
    },
    {
      "cell_type": "code",
      "source": "myarray",
      "metadata": {},
      "outputs": [],
      "execution_count": null
    },
    {
      "cell_type": "code",
      "source": "myarray.shape",
      "metadata": {},
      "outputs": [],
      "execution_count": null
    },
    {
      "cell_type": "markdown",
      "source": "We see that our simple array has only one dimension of length 6. Now of course we can create more complex arrays. Let's create for example a *list of two lists*:",
      "metadata": {}
    },
    {
      "cell_type": "code",
      "source": "my2d_list = [[1,2,3], [4,5,6]]\n\nmy2d_array = np.array(my2d_list)\nmy2d_array",
      "metadata": {},
      "outputs": [],
      "execution_count": null
    },
    {
      "cell_type": "code",
      "source": "my2d_array.shape",
      "metadata": {},
      "outputs": [],
      "execution_count": null
    },
    {
      "cell_type": "code",
      "source": "my3d_list = [[[1,2,3],[12,22,32]], [[4,5,6],[42,52,62]]]\n\nmy3d_list = np.array(my3d_list)\nmy3d_list",
      "metadata": {},
      "outputs": [],
      "execution_count": null
    },
    {
      "cell_type": "code",
      "source": "my3d_list.shape",
      "metadata": {},
      "outputs": [],
      "execution_count": null
    },
    {
      "cell_type": "markdown",
      "source": "We see now that the shape of this array is *two-dimensional*. We also see that we have 2 lists of 3 elements. In fact at this point we should forget that we have a list of lists and simply consider this object as a *matrix* with *two rows and three columns*.",
      "metadata": {}
    },
    {
      "cell_type": "markdown",
      "source": "## 1.2 Creating arrays\n\nWe have seen that we can turn regular lists into arrays. However this becomes quickly impractical for larger arrays. Numpy offers several functions to create particular arrays. ",
      "metadata": {}
    },
    {
      "cell_type": "markdown",
      "source": "### 1.2.1 Common simple arrays\nFor example an array full of zeros or ones:",
      "metadata": {}
    },
    {
      "cell_type": "code",
      "source": "one_array = np.ones((2,3))\none_array",
      "metadata": {},
      "outputs": [],
      "execution_count": null
    },
    {
      "cell_type": "code",
      "source": "zero_array = np.zeros((2,3))\nzero_array",
      "metadata": {},
      "outputs": [],
      "execution_count": null
    },
    {
      "cell_type": "code",
      "source": "one_array1 = np.ones((2,2,3))\none_array1",
      "metadata": {},
      "outputs": [],
      "execution_count": null
    },
    {
      "cell_type": "markdown",
      "source": "One can also create diagonal matrix:",
      "metadata": {}
    },
    {
      "cell_type": "code",
      "source": "np.eye(3)",
      "metadata": {},
      "outputs": [],
      "execution_count": null
    },
    {
      "cell_type": "markdown",
      "source": "By default Numpy creates float arrays:",
      "metadata": {}
    },
    {
      "cell_type": "code",
      "source": "one_array.dtype",
      "metadata": {},
      "outputs": [],
      "execution_count": null
    },
    {
      "cell_type": "markdown",
      "source": "However as mentioned before, one can impose a type usine the ```dtype``` option:",
      "metadata": {}
    },
    {
      "cell_type": "code",
      "source": "one_array_int = np.ones((2,3), dtype=np.int8)\none_array_int",
      "metadata": {},
      "outputs": [],
      "execution_count": null
    },
    {
      "cell_type": "code",
      "source": "one_array_int.dtype",
      "metadata": {},
      "outputs": [],
      "execution_count": null
    },
    {
      "cell_type": "markdown",
      "source": "### 1.2.2 Copying the shape\nOften one needs to create arrays of same shape. This can be done with \"like-functions\":",
      "metadata": {}
    },
    {
      "cell_type": "code",
      "source": "one_array",
      "metadata": {},
      "outputs": [],
      "execution_count": null
    },
    {
      "cell_type": "code",
      "source": "same_shape_array = np.zeros_like(one_array)\nsame_shape_array",
      "metadata": {},
      "outputs": [],
      "execution_count": null
    },
    {
      "cell_type": "code",
      "source": "one_array.shape",
      "metadata": {},
      "outputs": [],
      "execution_count": null
    },
    {
      "cell_type": "code",
      "source": "same_shape_array.shape",
      "metadata": {},
      "outputs": [],
      "execution_count": null
    },
    {
      "cell_type": "code",
      "source": "np.ones_like(one_array)",
      "metadata": {},
      "outputs": [],
      "execution_count": null
    },
    {
      "cell_type": "markdown",
      "source": "# 2. Creating Pandas dataframe",
      "metadata": {}
    },
    {
      "cell_type": "markdown",
      "source": "Python has a series of data containers (list, dicts etc.) and Numpy offers multi-dimensional arrays, however none of these structures offers a simple way neither to handle tabular data, nor to easily do standard database operations. This is why Pandas exists: it offers a complete ecosystem of structures and functions dedicated to handle large tables with inhomogeneous contents.\n\nIn this first chapter, we are going to learn about the two main structures of Pandas: Series and Dataframes.",
      "metadata": {}
    },
    {
      "cell_type": "markdown",
      "source": "## 2.1 Series",
      "metadata": {}
    },
    {
      "cell_type": "markdown",
      "source": "### 2.1.1 Simple series",
      "metadata": {}
    },
    {
      "cell_type": "markdown",
      "source": "Series are a the Pandas version of 1-D Numpy arrays. We are rarely going to use them directly, but they often appear implicitly when handling data from the more general Dataframe structure. We therefore only give here basics.\n\nTo understand Series' specificities, let's create one. Usually Pandas structures (Series and Dataframes) are created from other simpler structures like Numpy arrays or dictionaries:",
      "metadata": {}
    },
    {
      "cell_type": "code",
      "source": "numpy_array = np.array([4,8,38,1,6])\nnumpy_array",
      "metadata": {},
      "outputs": [],
      "execution_count": null
    },
    {
      "cell_type": "markdown",
      "source": "The function ```pd.Series()``` allows us to convert objects into Series:",
      "metadata": {}
    },
    {
      "cell_type": "code",
      "source": "import pandas as pd\npd_series = pd.Series(numpy_array)\npd_series",
      "metadata": {},
      "outputs": [],
      "execution_count": null
    },
    {
      "cell_type": "markdown",
      "source": "The underlying structure can be recovered with the ```.values``` attribute: ",
      "metadata": {}
    },
    {
      "cell_type": "code",
      "source": "pd_series.values",
      "metadata": {},
      "outputs": [],
      "execution_count": null
    },
    {
      "cell_type": "markdown",
      "source": "Otherwise, indexing works as for regular arrays:",
      "metadata": {}
    },
    {
      "cell_type": "code",
      "source": "pd_series[0]",
      "metadata": {},
      "outputs": [],
      "execution_count": null
    },
    {
      "cell_type": "markdown",
      "source": "### 2.1.2 Indexing",
      "metadata": {}
    },
    {
      "cell_type": "markdown",
      "source": "On top of accessing values in a series by regular indexing, one can create custom indices for each element in the series:",
      "metadata": {}
    },
    {
      "cell_type": "code",
      "source": "pd_series2 = pd.Series(numpy_array, index=['a', 'b', 'c', 'd','e'])",
      "metadata": {},
      "outputs": [],
      "execution_count": null
    },
    {
      "cell_type": "code",
      "source": "pd_series2",
      "metadata": {},
      "outputs": [],
      "execution_count": null
    },
    {
      "cell_type": "markdown",
      "source": "Now a given element can be accessed either by using its regular index:",
      "metadata": {}
    },
    {
      "cell_type": "code",
      "source": "pd_series2[1]",
      "metadata": {},
      "outputs": [],
      "execution_count": null
    },
    {
      "cell_type": "markdown",
      "source": "or its chosen index:",
      "metadata": {}
    },
    {
      "cell_type": "code",
      "source": "pd_series2['b']",
      "metadata": {},
      "outputs": [],
      "execution_count": null
    },
    {
      "cell_type": "markdown",
      "source": "A more direct way to create specific indexes is to transform as dictionary into a Series:",
      "metadata": {}
    },
    {
      "cell_type": "code",
      "source": "composer_birth = {'Mahler': 1860, 'Beethoven': 1770, 'Puccini': 1858, 'Shostakovich': 1906}",
      "metadata": {},
      "outputs": [],
      "execution_count": null
    },
    {
      "cell_type": "code",
      "source": "pd_composer_birth = pd.Series(composer_birth)\npd_composer_birth",
      "metadata": {},
      "outputs": [],
      "execution_count": null
    },
    {
      "cell_type": "code",
      "source": "pd_composer_birth['Puccini']",
      "metadata": {},
      "outputs": [],
      "execution_count": null
    },
    {
      "cell_type": "markdown",
      "source": "## 2.2 Dataframes",
      "metadata": {}
    },
    {
      "cell_type": "markdown",
      "source": "In most cases, one has to deal with more than just one variable, e.g. one has the birth year and the death year of a list of composers. Also one might have different types of information, e.g. in addition to numerical variables (year) one might have string variables like the city of birth. The Pandas structure that allow one to deal with such complex data is called a Dataframe, which can somehow be seen as an aggregation of Series with a common index.",
      "metadata": {}
    },
    {
      "cell_type": "markdown",
      "source": "### 2.2.1 Creating a Dataframe",
      "metadata": {}
    },
    {
      "cell_type": "markdown",
      "source": "To see how to construct such a Dataframe, let's create some more information about composers:",
      "metadata": {}
    },
    {
      "cell_type": "code",
      "source": "composer_death = pd.Series({'Mahler': 1911, 'Beethoven': 1827, 'Puccini': 1924, 'Shostakovich': 1975})\ncomposer_city_birth = pd.Series({'Mahler': 'Kaliste', 'Beethoven': 'Bonn', 'Puccini': 'Lucques', 'Shostakovich': 'Saint-Petersburg'})",
      "metadata": {},
      "outputs": [],
      "execution_count": null
    },
    {
      "cell_type": "markdown",
      "source": "Now we can combine multiple series into a Dataframe by precising a variable name for each series. Note that all our series need to have the same indices (here the composers' name):",
      "metadata": {}
    },
    {
      "cell_type": "code",
      "source": "composer_birth = {'Mahler': 1860, 'Beethoven': 1770, 'Puccini': 1858, 'Shostakovich': 1906}\npd_composer_birth = pd.Series(composer_birth)\npd_composer_birth",
      "metadata": {},
      "outputs": [],
      "execution_count": null
    },
    {
      "cell_type": "code",
      "source": "composers_df = pd.DataFrame({'birth': pd_composer_birth, 'death': composer_death, 'city': composer_city_birth})\ncomposers_df",
      "metadata": {},
      "outputs": [],
      "execution_count": null
    },
    {
      "cell_type": "markdown",
      "source": "A more common way of creating a Dataframe is to construct it directly from a dictionary of lists where each element of the dictionary turns into a column:",
      "metadata": {}
    },
    {
      "cell_type": "code",
      "source": "dict_of_list = {'birth': [1860, 1770, 1858, 1906], 'death':[1911, 1827, 1924, 1975], \n 'city':['Kaliste', 'Bonn', 'Lucques', 'Saint-Petersburg']}",
      "metadata": {},
      "outputs": [],
      "execution_count": null
    },
    {
      "cell_type": "code",
      "source": "pd.DataFrame(dict_of_list)",
      "metadata": {},
      "outputs": [],
      "execution_count": null
    },
    {
      "cell_type": "markdown",
      "source": "However we now lost the composers name. We can enforce it by providing, as we did before for the Series, a list of indices:",
      "metadata": {}
    },
    {
      "cell_type": "code",
      "source": "pd.DataFrame(dict_of_list, index=['Mahler', 'Beethoven', 'Puccini', 'Shostakovich'])",
      "metadata": {},
      "outputs": [],
      "execution_count": null
    },
    {
      "cell_type": "markdown",
      "source": "### 2.2.2 Accessing values",
      "metadata": {}
    },
    {
      "cell_type": "markdown",
      "source": "There are multiple ways of accessing values or series of values in a Dataframe. Unlike in Series, a simple bracket gives access to a column and not an index, for example:",
      "metadata": {}
    },
    {
      "cell_type": "code",
      "source": "composers_df['city']",
      "metadata": {},
      "outputs": [],
      "execution_count": null
    },
    {
      "cell_type": "markdown",
      "source": "returns a Series. Alternatively one can also use the *attributes* synthax and access columns by using:",
      "metadata": {}
    },
    {
      "cell_type": "code",
      "source": "composers_df.city",
      "metadata": {},
      "outputs": [],
      "execution_count": null
    },
    {
      "cell_type": "markdown",
      "source": "The attributes synthax has some limitations, so in case something does not work as expected, revert to the brackets notation.\n\nWhen specifiying multiple columns, a DataFrame is returned:",
      "metadata": {}
    },
    {
      "cell_type": "code",
      "source": "composers_df[['birth','city']]",
      "metadata": {},
      "outputs": [],
      "execution_count": null
    },
    {
      "cell_type": "markdown",
      "source": "One of the important differences with a regular Numpy array is that here, regular indexing doesn't work:",
      "metadata": {}
    },
    {
      "cell_type": "markdown",
      "source": "Instead one has to use either the ```.iloc[]``` or the ```.loc[]``` method. ```.iloc[]``` can be used to recover the regular indexing:",
      "metadata": {}
    },
    {
      "cell_type": "code",
      "source": "composers_df.iloc[0]",
      "metadata": {},
      "outputs": [],
      "execution_count": null
    },
    {
      "cell_type": "code",
      "source": " composers_df.iloc[0,1]",
      "metadata": {},
      "outputs": [],
      "execution_count": null
    },
    {
      "cell_type": "code",
      "source": "",
      "metadata": {},
      "outputs": [],
      "execution_count": null
    },
    {
      "cell_type": "markdown",
      "source": "While ```.loc[]``` allows one to recover elements by using the **explicit** index, on our case the composers name:",
      "metadata": {}
    },
    {
      "cell_type": "code",
      "source": "composers_df.loc['Mahler','death']",
      "metadata": {},
      "outputs": [],
      "execution_count": null
    },
    {
      "cell_type": "code",
      "source": "composers_df",
      "metadata": {},
      "outputs": [],
      "execution_count": null
    },
    {
      "cell_type": "markdown",
      "source": "**Remember that ```loc``` and ``iloc``` use brackets [] and not parenthesis ().**\n\nNumpy style indexing works here too",
      "metadata": {}
    },
    {
      "cell_type": "code",
      "source": "composers_df.iloc[1:3]",
      "metadata": {},
      "outputs": [],
      "execution_count": null
    },
    {
      "cell_type": "code",
      "source": "composers_df.iloc[1:3,:2]",
      "metadata": {},
      "outputs": [],
      "execution_count": null
    },
    {
      "cell_type": "markdown",
      "source": "If you are working with a large table, it might be useful to sometimes have a list of all the columns. This is given by the ```.keys()``` attribute:",
      "metadata": {}
    },
    {
      "cell_type": "code",
      "source": "composers_df.keys()",
      "metadata": {},
      "outputs": [],
      "execution_count": null
    },
    {
      "cell_type": "markdown",
      "source": "### 2.2.3 Adding columns",
      "metadata": {}
    },
    {
      "cell_type": "markdown",
      "source": "It is very simple to add a column to a Dataframe. One can e.g. just create a column a give it a default value that we can change later:",
      "metadata": {}
    },
    {
      "cell_type": "code",
      "source": "composers_df['country'] = 'default'",
      "metadata": {},
      "outputs": [],
      "execution_count": null
    },
    {
      "cell_type": "code",
      "source": "composers_df",
      "metadata": {},
      "outputs": [],
      "execution_count": null
    },
    {
      "cell_type": "markdown",
      "source": "Or one can use an existing list:",
      "metadata": {}
    },
    {
      "cell_type": "code",
      "source": "country = ['Austria','Germany','Italy','Russia']",
      "metadata": {},
      "outputs": [],
      "execution_count": null
    },
    {
      "cell_type": "code",
      "source": "composers_df['country2'] = country",
      "metadata": {},
      "outputs": [],
      "execution_count": null
    },
    {
      "cell_type": "code",
      "source": "composers_df",
      "metadata": {},
      "outputs": [],
      "execution_count": null
    },
    {
      "cell_type": "code",
      "source": "",
      "metadata": {},
      "outputs": [],
      "execution_count": null
    },
    {
      "cell_type": "markdown",
      "source": "### Save to CSV\nAfter creating or cleaning your dataset, you will often want to **save your results** so they can be reused later or shared with others.\n\npandas provides the function **`to_csv()`** to export a DataFrame into a CSV file.\n\n#### Basic Usage\n```python\nDataFrame.to_csv(\"filename.csv\")",
      "metadata": {}
    },
    {
      "cell_type": "code",
      "source": "# Save to CSV with index\ncomposers_df.to_csv(\"<Your+name>+country_with_index.csv\")\n\n# Save to CSV without index\ncomposers_df.to_csv(\"<Your+name>+country_no_index.csv\", index=False)\n\nprint(\"Files have been saved successfully!\")",
      "metadata": {
        "trusted": true
      },
      "outputs": [
        {
          "ename": "<class 'NameError'>",
          "evalue": "name 'composers_df' is not defined",
          "traceback": [
            "\u001b[0;31m---------------------------------------------------------------------------\u001b[0m",
            "\u001b[0;31mNameError\u001b[0m                                 Traceback (most recent call last)",
            "Cell \u001b[0;32mIn[2], line 2\u001b[0m\n\u001b[1;32m      1\u001b[0m \u001b[38;5;66;03m# Save to CSV with index\u001b[39;00m\n\u001b[0;32m----> 2\u001b[0m \u001b[43mcomposers_df\u001b[49m\u001b[38;5;241m.\u001b[39mto_csv(\u001b[38;5;124m\"\u001b[39m\u001b[38;5;124m<Your+name>+country_with_index.csv\u001b[39m\u001b[38;5;124m\"\u001b[39m)\n\u001b[1;32m      4\u001b[0m \u001b[38;5;66;03m# Save to CSV without index\u001b[39;00m\n\u001b[1;32m      5\u001b[0m composers_df\u001b[38;5;241m.\u001b[39mto_csv(\u001b[38;5;124m\"\u001b[39m\u001b[38;5;124m<Your+name>+country_no_index.csv\u001b[39m\u001b[38;5;124m\"\u001b[39m, index\u001b[38;5;241m=\u001b[39m\u001b[38;5;28;01mFalse\u001b[39;00m)\n",
            "\u001b[0;31mNameError\u001b[0m: name 'composers_df' is not defined"
          ],
          "output_type": "error"
        }
      ],
      "execution_count": 2
    },
    {
      "cell_type": "code",
      "source": "",
      "metadata": {},
      "outputs": [],
      "execution_count": null
    }
  ]
}